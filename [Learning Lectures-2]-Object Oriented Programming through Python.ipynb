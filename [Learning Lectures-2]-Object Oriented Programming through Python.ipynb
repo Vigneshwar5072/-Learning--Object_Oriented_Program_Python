{
 "cells": [
  {
   "cell_type": "markdown",
   "metadata": {},
   "source": [
    "[Lecture -2]: Class Variables"
   ]
  },
  {
   "cell_type": "markdown",
   "metadata": {},
   "source": [
    "In the earlier lecture-1 we have been through the class and instance variable and how to call them \n",
    "and do some trivial actions on the attributes of the instance.Now lets see the class variables and how \n",
    "to acces them through instance and how to override them too. Here is our last example for a quicj view"
   ]
  },
  {
   "cell_type": "code",
   "execution_count": 1,
   "metadata": {},
   "outputs": [],
   "source": [
    "class Employee:\n",
    "    def __init__(self, first, last, pay):\n",
    "        self.first = first\n",
    "        self.last = last\n",
    "        self.pay = pay\n",
    "        self.email = first + '.' + last + '@hotmail.com'\n",
    "    \n",
    "    def fullname(self):\n",
    "        return '{} {} {}'.format(self.first, self.last, self.pay)\n",
    "            \n",
    "\n",
    "emp_1 = Employee('Vignesh', 'Pesaru', '12000')\n",
    "emp_2 = Employee('Vignesh1', 'Pesaru1', '13000')"
   ]
  },
  {
   "cell_type": "markdown",
   "metadata": {},
   "source": [
    "Class Variables: These variables are shared or common variables to the instances whereas the instance variable\n",
    "are unique to its instance. Like the first name, last name, and pay. \n",
    "\n",
    "Class variables are should be same for all the instances and should be shared among them.\n",
    "    \n",
    "    "
   ]
  },
  {
   "cell_type": "markdown",
   "metadata": {},
   "source": [
    "Lets say company raises the salaries of the employees. Now these hikes are same to all the employees.\n"
   ]
  },
  {
   "cell_type": "code",
   "execution_count": 6,
   "metadata": {},
   "outputs": [
    {
     "name": "stdout",
     "output_type": "stream",
     "text": [
      "12000\n",
      "12480.0\n"
     ]
    }
   ],
   "source": [
    "class Employee:\n",
    "    def __init__(self, first, last, pay):\n",
    "        self.first = first\n",
    "        self.last = last\n",
    "        self.pay = pay\n",
    "        self.email = first + '.' + last + '@hotmail.com'\n",
    "    \n",
    "    def fullname(self):\n",
    "        return '{} {} {}'.format(self.first, self.last, self.pay)\n",
    "    \n",
    "    def apply_raise(self):\n",
    "        self.pay = float(self.pay) * 1.04\n",
    "            \n",
    "\n",
    "emp_1 = Employee('Vignesh', 'Pesaru', '12000')\n",
    "emp_2 = Employee('Vignesh1', 'Pesaru1', '13000')\n",
    "\n",
    "print(emp_1.pay)\n",
    "emp_1.apply_raise()\n",
    "print(emp_1.pay)"
   ]
  },
  {
   "cell_type": "markdown",
   "metadata": {},
   "source": [
    "Here there is no common attribute shared by the instance of the class. Instead, we have a increased the \n",
    "pay by 4% to all the employees. Say, if we need to increase the salary by some amount. In the above code the 4% is hidden in the method that aplies to same for all the instances. If we need to update this easily, will create a class variable which can be updated quickly and use it when required. For example:\n",
    "    "
   ]
  },
  {
   "cell_type": "code",
   "execution_count": 8,
   "metadata": {},
   "outputs": [
    {
     "name": "stdout",
     "output_type": "stream",
     "text": [
      "12000\n"
     ]
    },
    {
     "ename": "NameError",
     "evalue": "name 'raise_amount' is not defined",
     "output_type": "error",
     "traceback": [
      "\u001b[1;31m---------------------------------------------------------------------------\u001b[0m",
      "\u001b[1;31mNameError\u001b[0m                                 Traceback (most recent call last)",
      "\u001b[1;32m<ipython-input-8-b63eb56eab4f>\u001b[0m in \u001b[0;36m<module>\u001b[1;34m\u001b[0m\n\u001b[0;32m     20\u001b[0m \u001b[1;33m\u001b[0m\u001b[0m\n\u001b[0;32m     21\u001b[0m \u001b[0mprint\u001b[0m\u001b[1;33m(\u001b[0m\u001b[0memp_1\u001b[0m\u001b[1;33m.\u001b[0m\u001b[0mpay\u001b[0m\u001b[1;33m)\u001b[0m\u001b[1;33m\u001b[0m\u001b[1;33m\u001b[0m\u001b[0m\n\u001b[1;32m---> 22\u001b[1;33m \u001b[0memp_1\u001b[0m\u001b[1;33m.\u001b[0m\u001b[0mapply_raise\u001b[0m\u001b[1;33m(\u001b[0m\u001b[1;33m)\u001b[0m\u001b[1;33m\u001b[0m\u001b[1;33m\u001b[0m\u001b[0m\n\u001b[0m\u001b[0;32m     23\u001b[0m \u001b[0mprint\u001b[0m\u001b[1;33m(\u001b[0m\u001b[0memp_1\u001b[0m\u001b[1;33m.\u001b[0m\u001b[0mpay\u001b[0m\u001b[1;33m)\u001b[0m\u001b[1;33m\u001b[0m\u001b[1;33m\u001b[0m\u001b[0m\n\u001b[0;32m     24\u001b[0m \u001b[1;33m\u001b[0m\u001b[0m\n",
      "\u001b[1;32m<ipython-input-8-b63eb56eab4f>\u001b[0m in \u001b[0;36mapply_raise\u001b[1;34m(self)\u001b[0m\n\u001b[0;32m     13\u001b[0m \u001b[1;33m\u001b[0m\u001b[0m\n\u001b[0;32m     14\u001b[0m     \u001b[1;32mdef\u001b[0m \u001b[0mapply_raise\u001b[0m\u001b[1;33m(\u001b[0m\u001b[0mself\u001b[0m\u001b[1;33m)\u001b[0m\u001b[1;33m:\u001b[0m\u001b[1;33m\u001b[0m\u001b[1;33m\u001b[0m\u001b[0m\n\u001b[1;32m---> 15\u001b[1;33m         \u001b[0mself\u001b[0m\u001b[1;33m.\u001b[0m\u001b[0mpay\u001b[0m \u001b[1;33m=\u001b[0m \u001b[0mfloat\u001b[0m\u001b[1;33m(\u001b[0m\u001b[0mself\u001b[0m\u001b[1;33m.\u001b[0m\u001b[0mpay\u001b[0m\u001b[1;33m)\u001b[0m \u001b[1;33m*\u001b[0m \u001b[0mraise_amount\u001b[0m \u001b[1;31m#using the class variable\u001b[0m\u001b[1;33m\u001b[0m\u001b[1;33m\u001b[0m\u001b[0m\n\u001b[0m\u001b[0;32m     16\u001b[0m \u001b[1;33m\u001b[0m\u001b[0m\n\u001b[0;32m     17\u001b[0m \u001b[1;33m\u001b[0m\u001b[0m\n",
      "\u001b[1;31mNameError\u001b[0m: name 'raise_amount' is not defined"
     ]
    }
   ],
   "source": [
    "class Employee:\n",
    "    \n",
    "    raise_amount = 1.04\n",
    "    \n",
    "    def __init__(self, first, last, pay):\n",
    "        self.first = first\n",
    "        self.last = last\n",
    "        self.pay = pay\n",
    "        self.email = first + '.' + last + '@hotmail.com'\n",
    "    \n",
    "    def fullname(self):\n",
    "        return '{} {} {}'.format(self.first, self.last, self.pay)\n",
    "    \n",
    "    def apply_raise(self):\n",
    "        self.pay = float(self.pay) * raise_amount #using the class variable\n",
    "            \n",
    "\n",
    "emp_1 = Employee('Vignesh', 'Pesaru', '12000')\n",
    "emp_2 = Employee('Vignesh1', 'Pesaru1', '13000')\n",
    "\n",
    "print(emp_1.pay)\n",
    "emp_1.apply_raise()\n",
    "print(emp_1.pay)\n",
    "\n",
    "#emp_1.raise_amount\n",
    "#Employee.raise_amount"
   ]
  },
  {
   "cell_type": "markdown",
   "metadata": {},
   "source": [
    "Oops..something went wrong.!!! what did we do..? ok lets understand a bit here. In the above case, \n",
    "we have seen that we are using the raise_amount directly in the instance method. Infact this wont work. Basically the instance method searches for raise_amount, it has not find it anywhere. Now, lets give an access to the raise_amount  for the instance."
   ]
  },
  {
   "cell_type": "code",
   "execution_count": 9,
   "metadata": {},
   "outputs": [
    {
     "name": "stdout",
     "output_type": "stream",
     "text": [
      "12000\n",
      "12480.0\n"
     ]
    }
   ],
   "source": [
    "class Employee:\n",
    "    \n",
    "    raise_amount = 1.04\n",
    "    \n",
    "    def __init__(self, first, last, pay):\n",
    "        self.first = first\n",
    "        self.last = last\n",
    "        self.pay = pay\n",
    "        self.email = first + '.' + last + '@hotmail.com'\n",
    "    \n",
    "    def fullname(self):\n",
    "        return '{} {} {}'.format(self.first, self.last, self.pay)\n",
    "    \n",
    "    def apply_raise(self):\n",
    "        self.pay = float(self.pay) * self.raise_amount #using the class variable\n",
    "            \n",
    "\n",
    "emp_1 = Employee('Vignesh', 'Pesaru', '12000')\n",
    "emp_2 = Employee('Vignesh1', 'Pesaru1', '13000')\n",
    "\n",
    "print(emp_1.pay)\n",
    "emp_1.apply_raise()\n",
    "print(emp_1.pay)\n"
   ]
  },
  {
   "cell_type": "markdown",
   "metadata": {},
   "source": [
    "Now the question here is, why do we need to access the class variable through the instances.? ok to answer this \n",
    "lets see an example: Here basically we can access the class variables from the class itself and the insatnces \n",
    "    of the class. Lets see..."
   ]
  },
  {
   "cell_type": "code",
   "execution_count": 11,
   "metadata": {},
   "outputs": [
    {
     "name": "stdout",
     "output_type": "stream",
     "text": [
      "1.04\n",
      "1.04\n",
      "1.04\n"
     ]
    }
   ],
   "source": [
    "class Employee:\n",
    "    \n",
    "    raise_amount = 1.04\n",
    "    \n",
    "    def __init__(self, first, last, pay):\n",
    "        self.first = first\n",
    "        self.last = last\n",
    "        self.pay = pay\n",
    "        self.email = first + '.' + last + '@hotmail.com'\n",
    "    \n",
    "    def fullname(self):\n",
    "        return '{} {} {}'.format(self.first, self.last, self.pay)\n",
    "    \n",
    "    def apply_raise(self):\n",
    "        self.pay = float(self.pay) * self.raise_amount #using the class variable\n",
    "            \n",
    "\n",
    "emp_1 = Employee('Vignesh', 'Pesaru', '12000')\n",
    "emp_2 = Employee('Vignesh1', 'Pesaru1', '13000')\n",
    "\n",
    "print(emp_1.raise_amount)\n",
    "print(emp_2.raise_amount)\n",
    "print(Employee.raise_amount)"
   ]
  },
  {
   "cell_type": "markdown",
   "metadata": {},
   "source": [
    "Oh..got it!!!. Observation: Here generally the instance would basically search if that instance have\n",
    "    an attribute with the name raise_amount. In this it doesnot. If it doesnot then it searches for whether \n",
    "    the class attributes or from the inherited class attribute contains with that name if yes, it gets access.\n",
    "    Lets understand much better"
   ]
  },
  {
   "cell_type": "code",
   "execution_count": 14,
   "metadata": {},
   "outputs": [
    {
     "name": "stdout",
     "output_type": "stream",
     "text": [
      "{'first': 'Vignesh', 'last': 'Pesaru', 'pay': '12000', 'email': 'Vignesh.Pesaru@hotmail.com'}\n",
      "{'first': 'Vignesh', 'last': 'Pesaru', 'pay': '12000', 'email': 'Vignesh.Pesaru@hotmail.com'}\n",
      "{'__module__': '__main__', 'raise_amount': 1.04, '__init__': <function Employee.__init__ at 0x0000028F10AD23A0>, 'fullname': <function Employee.fullname at 0x0000028F10AD24C0>, 'apply_raise': <function Employee.apply_raise at 0x0000028F10AD2B80>, '__dict__': <attribute '__dict__' of 'Employee' objects>, '__weakref__': <attribute '__weakref__' of 'Employee' objects>, '__doc__': None}\n"
     ]
    }
   ],
   "source": [
    "class Employee:\n",
    "    \n",
    "    raise_amount = 1.04\n",
    "    \n",
    "    def __init__(self, first, last, pay):\n",
    "        self.first = first\n",
    "        self.last = last\n",
    "        self.pay = pay\n",
    "        self.email = first + '.' + last + '@hotmail.com'\n",
    "    \n",
    "    def fullname(self):\n",
    "        return '{} {} {}'.format(self.first, self.last, self.pay)\n",
    "    \n",
    "    def apply_raise(self):\n",
    "        self.pay = float(self.pay) * self.raise_amount #using the class variable\n",
    "            \n",
    "\n",
    "emp_1 = Employee('Vignesh', 'Pesaru', '12000')\n",
    "emp_2 = Employee('Vignesh1', 'Pesaru1', '13000')\n",
    "\n",
    "print(emp_1.__dict__)\n",
    "print(emp_1.__dict__)\n",
    "print(Employee.__dict__)\n"
   ]
  },
  {
   "cell_type": "markdown",
   "metadata": {},
   "source": [
    "If you observe carefully, we dont have any attribute name raise_amount with in the instance of a class. Instead\n",
    "we have it in the class variables. So the instance method searches for the class variables to get the raise_amount variable"
   ]
  },
  {
   "cell_type": "code",
   "execution_count": 15,
   "metadata": {},
   "outputs": [
    {
     "ename": "SyntaxError",
     "evalue": "invalid syntax (<ipython-input-15-0b70d16d75a5>, line 1)",
     "output_type": "error",
     "traceback": [
      "\u001b[1;36m  File \u001b[1;32m\"<ipython-input-15-0b70d16d75a5>\"\u001b[1;36m, line \u001b[1;32m1\u001b[0m\n\u001b[1;33m    Now lets see one more example:\u001b[0m\n\u001b[1;37m        ^\u001b[0m\n\u001b[1;31mSyntaxError\u001b[0m\u001b[1;31m:\u001b[0m invalid syntax\n"
     ]
    }
   ],
   "source": [
    "Now lets see one more example:\n",
    "    "
   ]
  },
  {
   "cell_type": "code",
   "execution_count": 17,
   "metadata": {},
   "outputs": [
    {
     "name": "stdout",
     "output_type": "stream",
     "text": [
      "1.05\n",
      "1.04\n",
      "1.04\n",
      "{'first': 'Vignesh', 'last': 'Pesaru', 'pay': '12000', 'email': 'Vignesh.Pesaru@hotmail.com', 'raise_amount': 1.05}\n",
      "{'first': 'Vignesh1', 'last': 'Pesaru1', 'pay': '13000', 'email': 'Vignesh1.Pesaru1@hotmail.com'}\n",
      "{'__module__': '__main__', 'raise_amount': 1.04, '__init__': <function Employee.__init__ at 0x0000028F10AD2700>, 'fullname': <function Employee.fullname at 0x0000028F10AD2430>, 'apply_raise': <function Employee.apply_raise at 0x0000028F10AD25E0>, '__dict__': <attribute '__dict__' of 'Employee' objects>, '__weakref__': <attribute '__weakref__' of 'Employee' objects>, '__doc__': None}\n"
     ]
    }
   ],
   "source": [
    "class Employee:\n",
    "    \n",
    "    raise_amount = 1.04\n",
    "    \n",
    "    def __init__(self, first, last, pay):\n",
    "        self.first = first\n",
    "        self.last = last\n",
    "        self.pay = pay\n",
    "        self.email = first + '.' + last + '@hotmail.com'\n",
    "    \n",
    "    def fullname(self):\n",
    "        return '{} {} {}'.format(self.first, self.last, self.pay)\n",
    "    \n",
    "    def apply_raise(self):\n",
    "        self.pay = float(self.pay) * self.raise_amount #using the class variable\n",
    "            \n",
    "\n",
    "emp_1 = Employee('Vignesh', 'Pesaru', '12000')\n",
    "emp_2 = Employee('Vignesh1', 'Pesaru1', '13000')\n",
    "\n",
    "\n",
    "emp_1.raise_amount = 1.05\n",
    "\n",
    "print(emp_1.raise_amount)\n",
    "print(emp_2.raise_amount)\n",
    "print(Employee.raise_amount)\n",
    "\n",
    "\n",
    "print(emp_1.__dict__)\n",
    "print(emp_2.__dict__)\n",
    "print(Employee.__dict__)"
   ]
  },
  {
   "cell_type": "markdown",
   "metadata": {},
   "source": [
    "Did you understand the above code line 16 to the line-14.? The major difference here is, in the line number \n",
    "16 we have initiated the class variable 'raise_amount 'to the instance attribute  with the new % as 1.05. \n",
    "Now within the instance attribute search space it finds the new % and gets its value it wont look for the class \n",
    "variable anymore."
   ]
  },
  {
   "cell_type": "markdown",
   "metadata": {},
   "source": [
    "Now lets create the new class variable named number of employees which make sense to define at the class level.\n"
   ]
  },
  {
   "cell_type": "code",
   "execution_count": 20,
   "metadata": {},
   "outputs": [
    {
     "name": "stdout",
     "output_type": "stream",
     "text": [
      "0\n",
      "2\n"
     ]
    }
   ],
   "source": [
    "class Employee:\n",
    "    \n",
    "    number_of_employees = 0\n",
    "    raise_amount = 1.04\n",
    "    \n",
    "    def __init__(self, first, last, pay):\n",
    "        self.first = first\n",
    "        self.last = last\n",
    "        self.pay = pay\n",
    "        self.email = first + '.' + last + '@hotmail.com'\n",
    "        Employee.number_of_employees += 1\n",
    "    \n",
    "    def fullname(self):\n",
    "        return '{} {} {}'.format(self.first, self.last, self.pay)\n",
    "    \n",
    "    def apply_raise(self):\n",
    "        self.pay = float(self.pay) * self.raise_amount #using the class variable\n",
    "            \n",
    "\n",
    "print(Employee.number_of_employees)            \n",
    "emp_1 = Employee('Vignesh', 'Pesaru', '12000')\n",
    "emp_2 = Employee('Vignesh1', 'Pesaru1', '13000')\n",
    "print(Employee.number_of_employees)\n",
    "\n"
   ]
  },
  {
   "cell_type": "markdown",
   "metadata": {},
   "source": [
    "Observation: In the above example we can see that the number of employees when we before create the instance\n",
    "    is 0 and as then we create the objects of emp1 and emp2 and called the init method the number_of_employees\n",
    "    got incremented."
   ]
  },
  {
   "cell_type": "code",
   "execution_count": null,
   "metadata": {},
   "outputs": [],
   "source": []
  }
 ],
 "metadata": {
  "kernelspec": {
   "display_name": "Python 3",
   "language": "python",
   "name": "python3"
  },
  "language_info": {
   "codemirror_mode": {
    "name": "ipython",
    "version": 3
   },
   "file_extension": ".py",
   "mimetype": "text/x-python",
   "name": "python",
   "nbconvert_exporter": "python",
   "pygments_lexer": "ipython3",
   "version": "3.8.5"
  }
 },
 "nbformat": 4,
 "nbformat_minor": 4
}
