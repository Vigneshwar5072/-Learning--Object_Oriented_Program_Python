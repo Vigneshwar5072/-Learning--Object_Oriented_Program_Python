{
 "cells": [
  {
   "cell_type": "markdown",
   "metadata": {},
   "source": [
    "[Lecture-3]:Class inheritence and subclasses"
   ]
  },
  {
   "cell_type": "markdown",
   "metadata": {},
   "source": [
    "In the last notebook we tried learning class variable. Now lets learn the class inheritence and subclasses further."
   ]
  },
  {
   "cell_type": "markdown",
   "metadata": {},
   "source": [
    "Lets start by creating the new subclass with the name developer inherited from the parent class."
   ]
  },
  {
   "cell_type": "code",
   "execution_count": 3,
   "metadata": {},
   "outputs": [
    {
     "name": "stdout",
     "output_type": "stream",
     "text": [
      "Vignesh.Pesaru@hotmail.com\n",
      "Vignesh1.Pesaru1@hotmail.com\n"
     ]
    }
   ],
   "source": [
    "class Employee:\n",
    "    \n",
    "    number_of_employees = 0\n",
    "    raise_amount = 1.04\n",
    "    \n",
    "    def __init__(self, first, last, pay):\n",
    "        self.first = first\n",
    "        self.last = last\n",
    "        self.pay = pay\n",
    "        self.email = first + '.' + last + '@hotmail.com'\n",
    "        Employee.number_of_employees += 1\n",
    "    \n",
    "    def fullname(self):\n",
    "        return '{} {} {}'.format(self.first, self.last, self.pay)\n",
    "    \n",
    "    def apply_raise(self):\n",
    "        self.pay = float(self.pay) * self.raise_amount #using the class variable\n",
    "            \n",
    "class Developer(Employee):\n",
    "    pass\n",
    "                        \n",
    "dev_1 = Developer('Vignesh', 'Pesaru', '12000')\n",
    "dev_2 = Developer('Vignesh1', 'Pesaru1', '13000')\n",
    "print(dev_1.email)\n",
    "print(dev_2.email)\n"
   ]
  },
  {
   "cell_type": "markdown",
   "metadata": {},
   "source": [
    "How did this worked when we called the class Developer and not the Employee.?\n",
    "\n",
    "Lets see how this has happened and its basic functionality. Basically the developer instance look if the first,\n",
    "last and pay is defined in the developer class if not then it searches for these attributes in the parent  class\n",
    "Lets see its function in-detail.,"
   ]
  },
  {
   "cell_type": "code",
   "execution_count": 4,
   "metadata": {},
   "outputs": [
    {
     "name": "stdout",
     "output_type": "stream",
     "text": [
      "Help on class Developer in module __main__:\n",
      "\n",
      "class Developer(Employee)\n",
      " |  Developer(first, last, pay)\n",
      " |  \n",
      " |  Method resolution order:\n",
      " |      Developer\n",
      " |      Employee\n",
      " |      builtins.object\n",
      " |  \n",
      " |  Methods inherited from Employee:\n",
      " |  \n",
      " |  __init__(self, first, last, pay)\n",
      " |      Initialize self.  See help(type(self)) for accurate signature.\n",
      " |  \n",
      " |  apply_raise(self)\n",
      " |  \n",
      " |  fullname(self)\n",
      " |  \n",
      " |  ----------------------------------------------------------------------\n",
      " |  Data descriptors inherited from Employee:\n",
      " |  \n",
      " |  __dict__\n",
      " |      dictionary for instance variables (if defined)\n",
      " |  \n",
      " |  __weakref__\n",
      " |      list of weak references to the object (if defined)\n",
      " |  \n",
      " |  ----------------------------------------------------------------------\n",
      " |  Data and other attributes inherited from Employee:\n",
      " |  \n",
      " |  number_of_employees = 2\n",
      " |  \n",
      " |  raise_amount = 1.04\n",
      "\n",
      "None\n"
     ]
    }
   ],
   "source": [
    "class Employee:\n",
    "    \n",
    "    number_of_employees = 0\n",
    "    raise_amount = 1.04\n",
    "    \n",
    "    def __init__(self, first, last, pay):\n",
    "        self.first = first\n",
    "        self.last = last\n",
    "        self.pay = pay\n",
    "        self.email = first + '.' + last + '@hotmail.com'\n",
    "        Employee.number_of_employees += 1\n",
    "    \n",
    "    def fullname(self):\n",
    "        return '{} {} {}'.format(self.first, self.last, self.pay)\n",
    "    \n",
    "    def apply_raise(self):\n",
    "        self.pay = float(self.pay) * self.raise_amount #using the class variable\n",
    "            \n",
    "class Developer(Employee):\n",
    "    pass\n",
    "                        \n",
    "dev_1 = Developer('Vignesh', 'Pesaru', '12000')\n",
    "dev_2 = Developer('Vignesh1', 'Pesaru1', '13000')\n",
    "print(help(Developer))\n",
    "#print(dev_1.email)\n",
    "#print(dev_2.email)"
   ]
  },
  {
   "cell_type": "markdown",
   "metadata": {},
   "source": [
    "....^ there you go if you see the inherited subclass function based on the above Method resolutin order.\n",
    "\n",
    "\n",
    "\n",
    "And now lets see how can we start changing the attributes of the parent class in the subclass with the \n",
    "below example:\n",
    "    "
   ]
  },
  {
   "cell_type": "code",
   "execution_count": 8,
   "metadata": {},
   "outputs": [
    {
     "name": "stdout",
     "output_type": "stream",
     "text": [
      "12000\n",
      "13200.000000000002\n"
     ]
    }
   ],
   "source": [
    "class Employee:\n",
    "    \n",
    "    number_of_employees = 0\n",
    "    raise_amount = 1.04\n",
    "    \n",
    "    def __init__(self, first, last, pay):\n",
    "        self.first = first\n",
    "        self.last = last\n",
    "        self.pay = pay\n",
    "        self.email = first + '.' + last + '@hotmail.com'\n",
    "        Employee.number_of_employees += 1\n",
    "    \n",
    "    def fullname(self):\n",
    "        return '{} {} {}'.format(self.first, self.last, self.pay)\n",
    "    \n",
    "    def apply_raise(self):\n",
    "        self.pay = float(self.pay) * self.raise_amount #using the class variable\n",
    "            \n",
    "class Developer(Employee):\n",
    "    raise_amount = 1.10\n",
    "                        \n",
    "dev_1 = Developer('Vignesh', 'Pesaru', '12000')\n",
    "dev_2 = Developer('Vignesh1', 'Pesaru1', '13000')\n",
    "#print(help(Developer))\n",
    "print(dev_1.pay)\n",
    "dev_1.apply_raise()\n",
    "print(dev_1.pay)\n",
    "\n",
    "\n"
   ]
  },
  {
   "cell_type": "markdown",
   "metadata": {},
   "source": [
    "Observation: In the above case although my parent class has the raise_amount is 1.04 but the inherited subclass\n",
    "    has the raise_amount   = 1.10. Hence the developer instance the new overridden attribute"
   ]
  },
  {
   "cell_type": "markdown",
   "metadata": {},
   "source": [
    "Now lets see an example for how to add a new atrribute to the subclass which is inherited from the parent \n",
    "class."
   ]
  },
  {
   "cell_type": "code",
   "execution_count": 13,
   "metadata": {},
   "outputs": [
    {
     "name": "stdout",
     "output_type": "stream",
     "text": [
      "Python\n",
      "Java\n"
     ]
    }
   ],
   "source": [
    "class Employee:\n",
    "    \n",
    "    number_of_employees = 0\n",
    "    raise_amount = 1.04\n",
    "    \n",
    "    def __init__(self, first, last, pay):\n",
    "        self.first = first\n",
    "        self.last = last\n",
    "        self.pay = pay\n",
    "        self.email = first + '.' + last + '@hotmail.com'\n",
    "        Employee.number_of_employees += 1\n",
    "    \n",
    "    def fullname(self):\n",
    "        return '{} {} {}'.format(self.first, self.last, self.pay)\n",
    "    \n",
    "    def apply_raise(self):\n",
    "        self.pay = float(self.pay) * self.raise_amount #using the class variable\n",
    "            \n",
    "class Developer(Employee):\n",
    "    raise_amount = 1.10\n",
    "    \n",
    "    def __init__(self, first, last, pay, program_language):\n",
    "            super().__init__(first, last, pay)\n",
    "            #super().init() method passes the first, last and pay arguments to the parent class, to\n",
    "            #get its relavent attributes.\n",
    "            #we can also do this with \n",
    "            # Employee.__init__(self, first, last, pay)\n",
    "            #Now the new attribute for the developer can be added as same as we did in the employee class,i.e\n",
    "            self.program_language = program_language\n",
    "\n",
    "\n",
    "\n",
    "#lets pass on the new fourth attribute programming language             \n",
    "dev_1 = Developer('Vignesh', 'Pesaru', '12000', 'Python')\n",
    "dev_2 = Developer('Vignesh1', 'Pesaru1', '13000', 'Java')\n",
    "#print(help(Developer))\n",
    "print(dev_1.program_language)\n",
    "\n",
    "print(dev_2.program_language)\n"
   ]
  },
  {
   "cell_type": "markdown",
   "metadata": {},
   "source": [
    "Now lets extend the subclass concept a bit further to create more methods and extra functionality:\n",
    "    "
   ]
  },
  {
   "cell_type": "code",
   "execution_count": 14,
   "metadata": {},
   "outputs": [
    {
     "name": "stdout",
     "output_type": "stream",
     "text": [
      "Myname.Your_Name@hotmail.com\n"
     ]
    }
   ],
   "source": [
    "class Employee:\n",
    "    \n",
    "    number_of_employees = 0\n",
    "    raise_amount = 1.04\n",
    "    \n",
    "    def __init__(self, first, last, pay):\n",
    "        self.first = first\n",
    "        self.last = last\n",
    "        self.pay = pay\n",
    "        self.email = first + '.' + last + '@hotmail.com'\n",
    "        Employee.number_of_employees += 1\n",
    "    \n",
    "    def fullname(self):\n",
    "        return '{} {} {}'.format(self.first, self.last, self.pay)\n",
    "    \n",
    "    def apply_raise(self):\n",
    "        self.pay = float(self.pay) * self.raise_amount #using the class variable\n",
    "            \n",
    "class Developer(Employee):\n",
    "    raise_amount = 1.10\n",
    "    \n",
    "    def __init__(self, first, last, pay, program_language):\n",
    "            super().__init__(first, last, pay)\n",
    "            #super().init() method passes the first, last and pay arguments to the parent class, to\n",
    "            #get its relavent attributes.\n",
    "            #we can also do this with \n",
    "            # Employee.__init__(self, first, last, pay)\n",
    "            #Now the new attribute for the developer can be added as same as we did in the employee class,i.e\n",
    "            self.program_language = program_language\n",
    "\n",
    "class Manager(Employee):\n",
    "    def __init__(self, first, last, pay, employees = None):\n",
    "            super().__init__(first, last, pay)\n",
    "            if employees is None:\n",
    "                self.employees = []\n",
    "            else:\n",
    "                self.employees = employees\n",
    "    def add_emps(self, emps):\n",
    "        if emp not in self.employees:\n",
    "            self.employees.append(emps)\n",
    "            \n",
    "    def remove_emps(self, emps):\n",
    "        if emp in self.employees:\n",
    "            self.employees.remove(emps)\n",
    "            \n",
    "    def print_emps(self):\n",
    "        for emp in self.employees:\n",
    "            print(emp.fullname())\n",
    "            \n",
    "\n",
    "            \n",
    "\n",
    "#lets pass on the new fourth attribute programming language             \n",
    "dev_1 = Developer('Vignesh', 'Pesaru', '12000', 'Python')\n",
    "dev_2 = Developer('Vignesh1', 'Pesaru1', '13000', 'Java')\n",
    "#print(help(Developer))\n",
    "manager_1 = Manager('Myname', 'Your_Name', '30000', [dev_1])\n",
    "\n",
    "print(manager_1.email)"
   ]
  },
  {
   "cell_type": "code",
   "execution_count": null,
   "metadata": {},
   "outputs": [],
   "source": []
  }
 ],
 "metadata": {
  "kernelspec": {
   "display_name": "Python 3",
   "language": "python",
   "name": "python3"
  },
  "language_info": {
   "codemirror_mode": {
    "name": "ipython",
    "version": 3
   },
   "file_extension": ".py",
   "mimetype": "text/x-python",
   "name": "python",
   "nbconvert_exporter": "python",
   "pygments_lexer": "ipython3",
   "version": "3.8.5"
  }
 },
 "nbformat": 4,
 "nbformat_minor": 4
}
