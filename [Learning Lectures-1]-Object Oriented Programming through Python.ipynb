{
 "cells": [
  {
   "cell_type": "markdown",
   "metadata": {},
   "source": [
    "In this tutorial will learn about creating and instantiating the classes.\n",
    "\n",
    "Why should we use classes..?\n",
    "\n",
    "Classes helps in allowing us to logically group the data and fucntions in a way that we can re-use or we can built on it further based on our need.\n",
    "\n",
    "    Data and fucntions are called as attributes and methods.\n",
    "\n",
    "    Methods: These are functions associated with the class\n",
    "Lets create a simple employee class"
   ]
  },
  {
   "cell_type": "code",
   "execution_count": 1,
   "metadata": {},
   "outputs": [],
   "source": [
    "class Employee:\n",
    "    pass"
   ]
  },
  {
   "cell_type": "markdown",
   "metadata": {},
   "source": [
    "Class: It is generally a blue print to create a instances of a class.\n",
    "    Each employee that we create will be a instance of the Employee class.\n",
    "            For example:    "
   ]
  },
  {
   "cell_type": "code",
   "execution_count": 2,
   "metadata": {},
   "outputs": [
    {
     "name": "stdout",
     "output_type": "stream",
     "text": [
      "<__main__.Employee object at 0x000001F154440850>\n",
      "<__main__.Employee object at 0x000001F1544408B0>\n"
     ]
    }
   ],
   "source": [
    "class Employee:\n",
    "    pass\n",
    "emp_1 = Employee()\n",
    "emp_2 = Employee()\n",
    "\n",
    "print(emp_1)\n",
    "print(emp_2)"
   ]
  },
  {
   "cell_type": "markdown",
   "metadata": {},
   "source": [
    "There is a differnce between the instance variables and a class variables. But in our next lecture\n",
    "we will discuss about the class variable but now lets focus on the instance variables:"
   ]
  },
  {
   "cell_type": "markdown",
   "metadata": {},
   "source": [
    "Instance variables contains the data that is unique to each instant.We can create a each instance variable  for the employees by doing like the below:\n",
    "    "
   ]
  },
  {
   "cell_type": "markdown",
   "metadata": {},
   "source": [
    "Lets say we need the employee need to have first name and last name:"
   ]
  },
  {
   "cell_type": "code",
   "execution_count": 4,
   "metadata": {},
   "outputs": [
    {
     "name": "stdout",
     "output_type": "stream",
     "text": [
      "<__main__.Employee object at 0x000001F15447B250>\n",
      "<__main__.Employee object at 0x000001F15447B2B0>\n",
      "Vignesh.Pesaru@hotmail.com.\n",
      "Vinnur.Pesaru@hotmail.com.\n"
     ]
    }
   ],
   "source": [
    "class Employee:\n",
    "    pass\n",
    "emp_1 = Employee()\n",
    "emp_2 = Employee()\n",
    "print(emp_1)\n",
    "print(emp_2)\n",
    "\n",
    "#instance-1\n",
    "emp_1.first = 'Vignesh'\n",
    "emp_1.last = 'Pesaru'\n",
    "emp_1.email = 'Vignesh.Pesaru@hotmail.com.'\n",
    "emp_1.pay = '12000'\n",
    "\n",
    "#instance-2\n",
    "emp_2.first = 'Vinnur'\n",
    "emp_2.last = 'Pesaru'\n",
    "emp_2.email = 'Vinnur.Pesaru@hotmail.com.'\n",
    "emp_2.pay = '15000'\n",
    "\n",
    "#Each of the instance have attributes uniques to itself.\n",
    "print(emp_1.email)\n",
    "print(emp_2.email)\n",
    "\n",
    "\n",
    "\n",
    "\n"
   ]
  },
  {
   "cell_type": "markdown",
   "metadata": {},
   "source": [
    "Observation: So everytime we cannot set this variables, It invloves a lot of code.Moreover there is not benefit of using the classes. Hence we define init functionality. With this our job can be done in simple manner."
   ]
  },
  {
   "cell_type": "code",
   "execution_count": 8,
   "metadata": {},
   "outputs": [
    {
     "name": "stdout",
     "output_type": "stream",
     "text": [
      "Vignesh.Pesaru@hotmail.com\n",
      "Vignesh1.Pesaru1@hotmail.com\n"
     ]
    }
   ],
   "source": [
    "class Employee:\n",
    "    def __init__(self, first, last, pay):\n",
    "        \n",
    "        #this is a special init method to initial. We can call it has constructor too.\n",
    "        #When we create a method inside of a class, they receive the instance as the first argument automatically\n",
    "        #it is called self, we can call it any name.\n",
    "        self.first = first\n",
    "        self.last = last\n",
    "        self.pay = pay\n",
    "        self.email = first + '.' + last + '@hotmail.com'\n",
    "        \n",
    "        \n",
    "        \n",
    "        \n",
    "    \n",
    "\n",
    "emp_1 = Employee('Vignesh', 'Pesaru', '12000')\n",
    "emp_2 = Employee('Vignesh1', 'Pesaru1', '13000')\n",
    "#when we create a instance variable of a employee class, now we can pass in the value to the init method.\n",
    "#Now the init method takes the instance which we called 'self', first name , last name and pay as argument\n",
    "\n",
    "\n",
    "\n",
    "\n",
    "\n",
    "print(emp_1.email)\n",
    "print(emp_2.email)\n",
    "\n",
    "#instance-1\n",
    "#emp_1.first = 'Vignesh'\n",
    "#emp_1.last = 'Pesaru'\n",
    "#emp_1.email = 'Vignesh.Pesaru@hotmail.com.'\n",
    "#emp_1.pay = '12000'\n",
    "\n",
    "#instance-2\n",
    "#emp_2.first = 'Vinnur'\n",
    "#emp_2.last = 'Pesaru'\n",
    "#emp_2.email = 'Vinnur.Pesaru@hotmail.com.'\n",
    "#emp_2.pay = '15000'\n",
    "\n",
    "#Each of the instance have attributes uniques to itself.\n",
    "#print(emp_1.email)\n",
    "#print(emp_2.email)\n"
   ]
  },
  {
   "cell_type": "markdown",
   "metadata": {},
   "source": [
    "So far what we have the names, email, pay are the attributes of the class.Now if we would like to perform\n",
    "some kind of action. To do that we can add the methods to our class. Let say we would like to display the full\n",
    "name of the class. We can do the this by.\n"
   ]
  },
  {
   "cell_type": "code",
   "execution_count": 10,
   "metadata": {},
   "outputs": [
    {
     "name": "stdout",
     "output_type": "stream",
     "text": [
      "Vignesh.Pesaru@hotmail.com\n",
      "Vignesh1.Pesaru1@hotmail.com\n",
      "Vignesh Pesaru 12000\n"
     ]
    }
   ],
   "source": [
    "class Employee:\n",
    "    def __init__(self, first, last, pay):\n",
    "        self.first = first\n",
    "        self.last = last\n",
    "        self.pay = pay\n",
    "        self.email = first + '.' + last + '@hotmail.com'\n",
    "            \n",
    "\n",
    "emp_1 = Employee('Vignesh', 'Pesaru', '12000')\n",
    "emp_2 = Employee('Vignesh1', 'Pesaru1', '13000')\n",
    "\n",
    "\n",
    "\n",
    "print(emp_1.email)\n",
    "print(emp_2.email)\n",
    "\n",
    "print('{} {} {}'.format(emp_1.first, emp_1.last, emp_1.pay ))\n"
   ]
  },
  {
   "cell_type": "markdown",
   "metadata": {},
   "source": [
    "Now., lets create a method in the class to get the full name from the class"
   ]
  },
  {
   "cell_type": "code",
   "execution_count": 7,
   "metadata": {},
   "outputs": [
    {
     "name": "stdout",
     "output_type": "stream",
     "text": [
      "Vignesh Pesaru 12000\n",
      "Vignesh Pesaru 12000\n"
     ]
    }
   ],
   "source": [
    "class Employee:\n",
    "    def __init__(self, first, last, pay):\n",
    "        self.first = first\n",
    "        self.last = last\n",
    "        self.pay = pay\n",
    "        self.email = first + '.' + last + '@hotmail.com'\n",
    "    \n",
    "    def fullname(self):\n",
    "        return '{} {} {}'.format(self.first, self.last, self.pay)\n",
    "            \n",
    "\n",
    "emp_1 = Employee('Vignesh', 'Pesaru', '12000')\n",
    "emp_2 = Employee('Vignesh1', 'Pesaru1', '13000')\n",
    "\n",
    "print(emp_1.fullname())\n",
    "#or the below way\n",
    "print(Employee.fullname(emp_1))"
   ]
  },
  {
   "cell_type": "markdown",
   "metadata": {},
   "source": [
    "Now lets implement few examples before we go and discuss about the class varibles."
   ]
  },
  {
   "cell_type": "markdown",
   "metadata": {},
   "source": [
    "Lets create a vehicle class example containing the attributes such as the brand, model and type. Also\n",
    "lets create few additional methods to use them in further. Will also see how to access from outside of \n",
    "the class.\n"
   ]
  },
  {
   "cell_type": "code",
   "execution_count": 14,
   "metadata": {},
   "outputs": [
    {
     "name": "stdout",
     "output_type": "stream",
     "text": [
      "Maruthi\n",
      "Honda\n",
      "Now the Gas tank is full now\n",
      "None\n",
      "19\n",
      "Now the Gas tank is full now\n",
      "None\n",
      "19\n"
     ]
    }
   ],
   "source": [
    "class Vehicle:\n",
    "    \n",
    "    def __init__(self, brand, model, type):\n",
    "        self.brand = brand\n",
    "        self.model = model\n",
    "        self.type = type\n",
    "        self.gas_tank_size = 14\n",
    "        self.fuel_level = 0\n",
    "        \n",
    "    def fuel_up(self):\n",
    "        self.fuel_level = self.gas_tank_size + 5\n",
    "        print(\"Now the Gas tank is full now\")\n",
    "    \n",
    "#Now constructing the object: An object is a instance of a class.Its creating by calling the class itself as if it \n",
    "#    were a function\n",
    "\n",
    "vehicle_object_1 = Vehicle('Maruthi', 'MX100', 'Car')\n",
    "vehicle_object_2 = Vehicle('Honda', '2LWO', 'Truck')\n",
    "\n",
    "print(vehicle_object_1.brand)\n",
    "print(vehicle_object_2.brand)\n",
    "\n",
    "#Lets call the methods with the objects\n",
    "print(vehicle_object_1.fuel_up())\n",
    "print(vehicle_object_1.fuel_level)\n",
    "\n",
    "print(vehicle_object_2.fuel_up())\n",
    "print(vehicle_object_2.fuel_level)\n"
   ]
  },
  {
   "cell_type": "code",
   "execution_count": null,
   "metadata": {},
   "outputs": [],
   "source": [
    "\n"
   ]
  }
 ],
 "metadata": {
  "kernelspec": {
   "display_name": "Python 3",
   "language": "python",
   "name": "python3"
  },
  "language_info": {
   "codemirror_mode": {
    "name": "ipython",
    "version": 3
   },
   "file_extension": ".py",
   "mimetype": "text/x-python",
   "name": "python",
   "nbconvert_exporter": "python",
   "pygments_lexer": "ipython3",
   "version": "3.8.5"
  }
 },
 "nbformat": 4,
 "nbformat_minor": 4
}
